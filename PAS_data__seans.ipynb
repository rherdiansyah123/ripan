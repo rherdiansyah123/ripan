{
  "nbformat": 4,
  "nbformat_minor": 0,
  "metadata": {
    "colab": {
      "provenance": []
    },
    "kernelspec": {
      "name": "python3",
      "display_name": "Python 3"
    },
    "language_info": {
      "name": "python"
    }
  },
  "cells": [
    {
      "cell_type": "code",
      "execution_count": 3,
      "metadata": {
        "colab": {
          "base_uri": "https://localhost:8080/"
        },
        "id": "uGGPtB_T9qWa",
        "outputId": "2e6d897c-f8fc-4eda-dba0-a308761d797f"
      },
      "outputs": [
        {
          "output_type": "stream",
          "name": "stdout",
          "text": [
            "seluruh keluaran dadu porbalitas 0.5\n",
            "seluruh keluaran dadu porbalitas 0.3333333333333333\n",
            "seluruh keluaran dadu porbalitas 0.6666666666666666\n",
            "seluruh keluaran dadu porbalitas 0.8333333333333334\n",
            "seluruh keluaran dadu porbalitas 1.0\n",
            "seluruh keluaran dadu porbalitas 0.16666666666666666\n",
            "seluruh keluaran dadu porbalitas 0.8333333333333334\n",
            "seluruh keluaran dadu porbalitas 1.0\n",
            "seluruh keluaran dadu porbalitas 0.5\n",
            "seluruh keluaran dadu porbalitas 0.3333333333333333\n",
            "seluruh keluaran dadu porbalitas 0.3333333333333333\n",
            "seluruh keluaran dadu porbalitas 0.16666666666666666\n",
            "seluruh keluaran dadu porbalitas 0.5\n",
            "seluruh keluaran dadu porbalitas 0.16666666666666666\n",
            "seluruh keluaran dadu porbalitas 0.8333333333333334\n"
          ]
        }
      ],
      "source": [
        "a = 3\n",
        "b = 2\n",
        "c = 4\n",
        "d = 5\n",
        "e = 6\n",
        "f = 1\n",
        "g = 5\n",
        "h = 6\n",
        "i = 3\n",
        "j = 2\n",
        "k = 2\n",
        "l = 1\n",
        "m = 3\n",
        "n = 1\n",
        "o = 5\n",
        "\n",
        "dadu1 = (3/6)\n",
        "dadu2 = (2/6)\n",
        "dadu3 = (4/6)\n",
        "dadu4 = (5/6)\n",
        "dadu5 = (6/6)\n",
        "dadu6 = (1/6)\n",
        "dadu7 = (5/6)\n",
        "dadu8 = (6/6)\n",
        "dadu9 = (3/6)\n",
        "dadu10 = (2/6)\n",
        "dadu11 = (2/6)\n",
        "dadu12 = (1/6)\n",
        "dadu13 = (3/6)\n",
        "dadu14 = (1/6)\n",
        "dadu15 = (5/6)\n",
        "\n",
        "print(\"seluruh keluaran dadu porbalitas \" + str(dadu1))\n",
        "print(\"seluruh keluaran dadu porbalitas \" + str(dadu2))\n",
        "print(\"seluruh keluaran dadu porbalitas \" + str(dadu3))\n",
        "print(\"seluruh keluaran dadu porbalitas \" + str(dadu4))\n",
        "print(\"seluruh keluaran dadu porbalitas \" + str(dadu5))\n",
        "print(\"seluruh keluaran dadu porbalitas \" + str(dadu6))\n",
        "print(\"seluruh keluaran dadu porbalitas \" + str(dadu7))\n",
        "print(\"seluruh keluaran dadu porbalitas \" + str(dadu8))\n",
        "print(\"seluruh keluaran dadu porbalitas \" + str(dadu9))\n",
        "print(\"seluruh keluaran dadu porbalitas \" + str(dadu10))\n",
        "print(\"seluruh keluaran dadu porbalitas \" + str(dadu11))\n",
        "print(\"seluruh keluaran dadu porbalitas \" + str(dadu12))\n",
        "print(\"seluruh keluaran dadu porbalitas \" + str(dadu13))\n",
        "print(\"seluruh keluaran dadu porbalitas \" + str(dadu14))\n",
        "print(\"seluruh keluaran dadu porbalitas \" + str(dadu15))"
      ]
    },
    {
      "cell_type": "code",
      "source": [
        "a = 3\n",
        "b = 2\n",
        "c = 4\n",
        "d = 5\n",
        "e = 6\n",
        "f = 1\n",
        "g = 5\n",
        "h = 6\n",
        "i = 3\n",
        "j = 2\n",
        "k = 2\n",
        "l = 1\n",
        "m = 3\n",
        "n = 1\n",
        "o = 5\n",
        "\n",
        "percobaan = (3 + 2 + 4 + 5 + 6 + 1 + 5 + 6 + 3 + 2 + 2 + 1 + 3 + 1 + 5)\n",
        "print(\"seluruh percobaan \" + str(percobaan))"
      ],
      "metadata": {
        "colab": {
          "base_uri": "https://localhost:8080/"
        },
        "id": "RtmlHIK5DWyb",
        "outputId": "3cacfb02-4c96-42b8-a7fd-babb4e2e01bf"
      },
      "execution_count": 5,
      "outputs": [
        {
          "output_type": "stream",
          "name": "stdout",
          "text": [
            "seluruh percobaan 49\n"
          ]
        }
      ]
    },
    {
      "cell_type": "code",
      "source": [
        "a = 3\n",
        "b = 2\n",
        "c = 4\n",
        "f = 1\n",
        "i = 3\n",
        "j = 2\n",
        "k = 2\n",
        "l = 1\n",
        "m = 3\n",
        "n = 1\n",
        "\n",
        "percobaan1 = (3 + 2 + 4 + 1 + 3 + 2 + 2 + 1 + 3 +1)\n",
        "print(\"seluruh percobaan \" + str(percobaan1))"
      ],
      "metadata": {
        "colab": {
          "base_uri": "https://localhost:8080/"
        },
        "id": "C76Bz-8CEebU",
        "outputId": "598a206f-798f-4e6b-de24-fc21a040153e"
      },
      "execution_count": 7,
      "outputs": [
        {
          "output_type": "stream",
          "name": "stdout",
          "text": [
            "seluruh percobaan 22\n"
          ]
        }
      ]
    },
    {
      "cell_type": "code",
      "source": [
        "a = 9\n",
        "b = 11\n",
        "c = 3\n",
        "d = 6\n",
        "e = 2\n",
        "f = 4\n",
        "g = 9\n",
        "h = 12\n",
        "i = 10\n",
        "j = 8\n",
        "k = 2\n",
        "l = 6\n",
        "m = 3\n",
        "n = 4\n",
        "o = 9\n",
        "p = 8\n",
        "q = 5\n",
        "r = 6\n",
        "s = 11\n",
        "t = 10\n",
        "\n",
        "dadu1 = (9/6)\n",
        "dadu2 = (11/6)\n",
        "dadu3 = (3/6)\n",
        "dadu4 = (6/6)\n",
        "dadu5 = (2/6)\n",
        "dadu6 = (4/6)\n",
        "dadu7 = (9/6)\n",
        "dadu8 = (12/6)\n",
        "dadu9 = (10/6)\n",
        "dadu10 = (8/6)\n",
        "dadu11 = (2/6)\n",
        "dadu12 = (6/6)\n",
        "dadu13 = (3/6)\n",
        "dadu14 = (4/6)\n",
        "dadu15 = (9/6)\n",
        "dadu16 = (8/6)\n",
        "dadu17 = (5/6)\n",
        "dadu18 = (6/6)\n",
        "dadu19 = (11/6)\n",
        "dadu20 = (10/6)\n",
        "\n",
        "\n",
        "print(\"seluruh keluaran dadu porbalitas \" + str(dadu1))\n",
        "print(\"seluruh keluaran dadu porbalitas \" + str(dadu2))\n",
        "print(\"seluruh keluaran dadu porbalitas \" + str(dadu3))\n",
        "print(\"seluruh keluaran dadu porbalitas \" + str(dadu4))\n",
        "print(\"seluruh keluaran dadu porbalitas \" + str(dadu5))\n",
        "print(\"seluruh keluaran dadu porbalitas \" + str(dadu6))\n",
        "print(\"seluruh keluaran dadu porbalitas \" + str(dadu7))\n",
        "print(\"seluruh keluaran dadu porbalitas \" + str(dadu8))\n",
        "print(\"seluruh keluaran dadu porbalitas \" + str(dadu9))\n",
        "print(\"seluruh keluaran dadu porbalitas \" + str(dadu10))\n",
        "print(\"seluruh keluaran dadu porbalitas \" + str(dadu11))\n",
        "print(\"seluruh keluaran dadu porbalitas \" + str(dadu12))\n",
        "print(\"seluruh keluaran dadu porbalitas \" + str(dadu13))\n",
        "print(\"seluruh keluaran dadu porbalitas \" + str(dadu14))\n",
        "print(\"seluruh keluaran dadu porbalitas \" + str(dadu15))\n",
        "print(\"seluruh keluaran dadu porbalitas \" + str(dadu16))\n",
        "print(\"seluruh keluaran dadu porbalitas \" + str(dadu17))\n",
        "print(\"seluruh keluaran dadu porbalitas \" + str(dadu18))\n",
        "print(\"seluruh keluaran dadu porbalitas \" + str(dadu19))\n",
        "print(\"seluruh keluaran dadu porbalitas \" + str(dadu20))"
      ],
      "metadata": {
        "colab": {
          "base_uri": "https://localhost:8080/"
        },
        "id": "xqGem3fyFLTa",
        "outputId": "8cb5aa63-c2ce-4862-e43e-0185ec9963b8"
      },
      "execution_count": 9,
      "outputs": [
        {
          "output_type": "stream",
          "name": "stdout",
          "text": [
            "seluruh keluaran dadu porbalitas 1.5\n",
            "seluruh keluaran dadu porbalitas 1.8333333333333333\n",
            "seluruh keluaran dadu porbalitas 0.5\n",
            "seluruh keluaran dadu porbalitas 1.0\n",
            "seluruh keluaran dadu porbalitas 0.3333333333333333\n",
            "seluruh keluaran dadu porbalitas 0.6666666666666666\n",
            "seluruh keluaran dadu porbalitas 1.5\n",
            "seluruh keluaran dadu porbalitas 2.0\n",
            "seluruh keluaran dadu porbalitas 1.6666666666666667\n",
            "seluruh keluaran dadu porbalitas 1.3333333333333333\n",
            "seluruh keluaran dadu porbalitas 0.3333333333333333\n",
            "seluruh keluaran dadu porbalitas 1.0\n",
            "seluruh keluaran dadu porbalitas 0.5\n",
            "seluruh keluaran dadu porbalitas 0.6666666666666666\n",
            "seluruh keluaran dadu porbalitas 1.5\n",
            "seluruh keluaran dadu porbalitas 1.3333333333333333\n",
            "seluruh keluaran dadu porbalitas 0.8333333333333334\n",
            "seluruh keluaran dadu porbalitas 1.0\n",
            "seluruh keluaran dadu porbalitas 1.8333333333333333\n",
            "seluruh keluaran dadu porbalitas 1.6666666666666667\n"
          ]
        }
      ]
    },
    {
      "cell_type": "code",
      "source": [
        "a = 9\n",
        "b = 11\n",
        "c = 3\n",
        "d = 6\n",
        "e = 2\n",
        "f = 4\n",
        "g = 9\n",
        "h = 12\n",
        "i = 10\n",
        "j = 8\n",
        "k = 2\n",
        "l = 6\n",
        "m = 3\n",
        "n = 4\n",
        "o = 9\n",
        "p = 8\n",
        "q = 5\n",
        "r = 6\n",
        "s = 11\n",
        "t = 10\n",
        "\n",
        "percobaan = (9 + 11 + 3 + 6 + 2 + 4 + 9 + 12 + 10 + 8 + 2 + 6 + 3 + 4 + 9 + 8 + 5 + 6 + 11 +10)\n",
        "print(\"seluruh percobaan \" + str(percobaan))"
      ],
      "metadata": {
        "colab": {
          "base_uri": "https://localhost:8080/"
        },
        "id": "g1FiwWIPHWbh",
        "outputId": "449c8c0a-036e-46cf-d393-a8c26677dbdc"
      },
      "execution_count": 11,
      "outputs": [
        {
          "output_type": "stream",
          "name": "stdout",
          "text": [
            "seluruh percobaan 138\n"
          ]
        }
      ]
    },
    {
      "cell_type": "code",
      "source": [
        "a = 2\n",
        "b = 2\n",
        "c = 4\n",
        "d = 4\n",
        "e = 6\n",
        "f = 6 \n",
        "g = 6\n",
        "h = 8\n",
        "i = 8\n",
        "j = 10\n",
        "k = 10\n",
        "l = 12\n",
        "percobaan1 = (a + b + c + d + e + f + g + h + i + j  + k + l)\n",
        "print(\"seluruh percobaan \" + str(percobaan1))"
      ],
      "metadata": {
        "colab": {
          "base_uri": "https://localhost:8080/"
        },
        "id": "vUYwZszVH8hK",
        "outputId": "5fe16d32-a37f-491a-c56e-7d7716c5611e"
      },
      "execution_count": 1,
      "outputs": [
        {
          "output_type": "stream",
          "name": "stdout",
          "text": [
            "seluruh percobaan 78\n"
          ]
        }
      ]
    }
  ]
}